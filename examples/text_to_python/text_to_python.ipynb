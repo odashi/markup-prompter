{
 "cells": [
  {
   "cell_type": "code",
   "execution_count": 12,
   "metadata": {},
   "outputs": [
    {
     "name": "stdout",
     "output_type": "stream",
     "text": [
      "==== system ====\n",
      "[SYSTEM]\n",
      "Write a function to complete the task and pass the assertion tests.\n",
      "[/SYSTEM]\n",
      "\n",
      "==== user ====\n",
      "[DESCRIPTION]\n",
      "These are the assertions for your function:\n",
      "\n",
      "assert similar_elements((3, 4, 5, 6),(5, 7, 4, 10)) == (4, 5)\n",
      "\n",
      "Write a function to find the similar elements from the given two tuple lists.\n",
      "[/DESCRIPTION]\n",
      "\n",
      "==== assistant ====\n",
      "[CODE]\n",
      "def similar_elements(test_tup1, test_tup2):\n",
      "    res = tuple(set(test_tup1) &amp; set(test_tup2))\n",
      "    return res\n",
      "[/CODE]\n",
      "\n",
      "==== user ====\n",
      "[DESCRIPTION]\n",
      "These are the assertions for your function:\n",
      "\n",
      "assert is_not_prime(2) == False\n",
      "\n",
      "Write a python function to identify non-prime numbers.\n",
      "[/DESCRIPTION]\n",
      "\n",
      "==== assistant ====\n",
      "[CODE]\n",
      "import math\n",
      "def is_not_prime(n):\n",
      "    result = False\n",
      "    for i in range(2, int(math.sqrt(n)) + 1):\n",
      "        if n % i == 0:\n",
      "        result = True\n",
      "    return result\n",
      "[/CODE]\n",
      "\n",
      "==== user ====\n",
      "[DESCRIPTION]\n",
      "These are the assertions for your function:\n",
      "\n",
      "assert heap_queue_largest([25, 35, 22, 85, 14, 65, 75, 22, 58], 3) == [85, 75, 65]\n",
      "\n",
      "Write a function to find the largest integers from a given list of numbers using heap queue algorithm.\n",
      "[/DESCRIPTION]\n",
      "\n",
      "==== assistant ====\n",
      "[CODE]\n",
      "import heapq as hq\n",
      "def heap_queue_largest(nums,n):\n",
      "    largest_nums = hq.nlargest(n, nums)\n",
      "    return largest_nums\n",
      "[/CODE]\n",
      "\n",
      "==== user ====\n",
      "[DESCRIPTION]\n",
      "These are the assertions for your function:\n",
      "\n",
      "assert distance((1.0, 2.0), (4.0, 6.0)) == 5.0\n",
      "\n",
      "Write a function to calculate the Euclidean distance between two points on the 2-dimensional space.\n",
      "[/DESCRIPTION]\n",
      "\n"
     ]
    }
   ],
   "source": [
    "from markup_prompter.prompter import Dictionary, to_chatgpt\n",
    "\n",
    "\n",
    "def program(d):\n",
    "    yield d(\"system:general\", title=\"SYSTEM\", role=\"system\")\n",
    "    for i in range(3):\n",
    "        yield d(f\"example{i:04d}:description\", title=\"DESCRIPTION\", role=\"user\")\n",
    "        yield d(f\"example{i:04d}:code\", title=\"CODE\", role=\"assistant\")\n",
    "    yield d(\"input:description\", title=\"DESCRIPTION\", role=\"user\")\n",
    "\n",
    "\n",
    "d = Dictionary.load(\"./src\")\n",
    "messages = to_chatgpt(program(d))\n",
    "\n",
    "for m in messages:\n",
    "    print(f\"==== {m['role']} ====\")\n",
    "    print(m[\"content\"])\n"
   ]
  },
  {
   "cell_type": "code",
   "execution_count": 9,
   "metadata": {},
   "outputs": [
    {
     "name": "stdout",
     "output_type": "stream",
     "text": [
      "[CODE]\n",
      "import math\n",
      "def distance(p1, p2):\n",
      "    return math.sqrt((p1[0] - p2[0]) ** 2 + (p1[1] - p2[1]) ** 2)\n",
      "[/CODE]\n"
     ]
    }
   ],
   "source": [
    "import os\n",
    "import openai\n",
    "\n",
    "homedir = os.environ[\"HOME\"]\n",
    "openai.organization = open(f\"{homedir}/tokens/openai_org.txt\").read().strip()\n",
    "openai.api_key = open(f\"{homedir}/tokens/openai_key.txt\").read().strip()\n",
    "\n",
    "completion = openai.ChatCompletion.create(\n",
    "    model=\"gpt-3.5-turbo\",\n",
    "    messages=messages,\n",
    ")\n",
    "print(completion[\"choices\"][0][\"message\"][\"content\"])\n"
   ]
  },
  {
   "cell_type": "code",
   "execution_count": null,
   "metadata": {},
   "outputs": [],
   "source": []
  }
 ],
 "metadata": {
  "kernelspec": {
   "display_name": "venv",
   "language": "python",
   "name": "python3"
  },
  "language_info": {
   "codemirror_mode": {
    "name": "ipython",
    "version": 3
   },
   "file_extension": ".py",
   "mimetype": "text/x-python",
   "name": "python",
   "nbconvert_exporter": "python",
   "pygments_lexer": "ipython3",
   "version": "3.10.7"
  },
  "orig_nbformat": 4
 },
 "nbformat": 4,
 "nbformat_minor": 2
}
